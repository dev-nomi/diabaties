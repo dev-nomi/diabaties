{
 "cells": [
  {
   "cell_type": "code",
   "execution_count": 1,
   "id": "6fd0dd9c",
   "metadata": {},
   "outputs": [],
   "source": [
    "import pandas as pd"
   ]
  },
  {
   "cell_type": "code",
   "execution_count": 2,
   "id": "3ff5ed32",
   "metadata": {},
   "outputs": [
    {
     "data": {
      "text/html": [
       "<div>\n",
       "<style scoped>\n",
       "    .dataframe tbody tr th:only-of-type {\n",
       "        vertical-align: middle;\n",
       "    }\n",
       "\n",
       "    .dataframe tbody tr th {\n",
       "        vertical-align: top;\n",
       "    }\n",
       "\n",
       "    .dataframe thead th {\n",
       "        text-align: right;\n",
       "    }\n",
       "</style>\n",
       "<table border=\"1\" class=\"dataframe\">\n",
       "  <thead>\n",
       "    <tr style=\"text-align: right;\">\n",
       "      <th></th>\n",
       "      <th>Temp1</th>\n",
       "      <th>HR</th>\n",
       "      <th>Spo2</th>\n",
       "      <th>BP</th>\n",
       "      <th>GL</th>\n",
       "    </tr>\n",
       "  </thead>\n",
       "  <tbody>\n",
       "    <tr>\n",
       "      <th>0</th>\n",
       "      <td>Normal</td>\n",
       "      <td>Normal</td>\n",
       "      <td>Critical</td>\n",
       "      <td>Elevated</td>\n",
       "      <td>Normal</td>\n",
       "    </tr>\n",
       "    <tr>\n",
       "      <th>1</th>\n",
       "      <td>Low</td>\n",
       "      <td>Normal</td>\n",
       "      <td>Worrisome</td>\n",
       "      <td>Elevated</td>\n",
       "      <td>Low</td>\n",
       "    </tr>\n",
       "    <tr>\n",
       "      <th>2</th>\n",
       "      <td>Low</td>\n",
       "      <td>Low</td>\n",
       "      <td>Worrisome</td>\n",
       "      <td>Normal</td>\n",
       "      <td>Elevated</td>\n",
       "    </tr>\n",
       "    <tr>\n",
       "      <th>3</th>\n",
       "      <td>Low</td>\n",
       "      <td>Normal</td>\n",
       "      <td>Worrisome</td>\n",
       "      <td>Normal</td>\n",
       "      <td>Low</td>\n",
       "    </tr>\n",
       "    <tr>\n",
       "      <th>4</th>\n",
       "      <td>Low</td>\n",
       "      <td>Low</td>\n",
       "      <td>Normal</td>\n",
       "      <td>Normal</td>\n",
       "      <td>Elevated</td>\n",
       "    </tr>\n",
       "  </tbody>\n",
       "</table>\n",
       "</div>"
      ],
      "text/plain": [
       "    Temp1      HR       Spo2        BP        GL\n",
       "0  Normal  Normal   Critical  Elevated    Normal\n",
       "1     Low  Normal  Worrisome  Elevated       Low\n",
       "2     Low     Low  Worrisome    Normal  Elevated\n",
       "3     Low  Normal  Worrisome    Normal       Low\n",
       "4     Low     Low     Normal    Normal  Elevated"
      ]
     },
     "execution_count": 2,
     "metadata": {},
     "output_type": "execute_result"
    }
   ],
   "source": [
    "iot_sample_data = pd.read_csv(\"iot_system_data_unannotated.csv\")\n",
    "iot_sample_data.head()"
   ]
  },
  {
   "cell_type": "code",
   "execution_count": 3,
   "id": "683c5fd4",
   "metadata": {},
   "outputs": [
    {
     "data": {
      "text/html": [
       "<div>\n",
       "<style scoped>\n",
       "    .dataframe tbody tr th:only-of-type {\n",
       "        vertical-align: middle;\n",
       "    }\n",
       "\n",
       "    .dataframe tbody tr th {\n",
       "        vertical-align: top;\n",
       "    }\n",
       "\n",
       "    .dataframe thead th {\n",
       "        text-align: right;\n",
       "    }\n",
       "</style>\n",
       "<table border=\"1\" class=\"dataframe\">\n",
       "  <thead>\n",
       "    <tr style=\"text-align: right;\">\n",
       "      <th></th>\n",
       "      <th>Temp1</th>\n",
       "      <th>HR</th>\n",
       "      <th>Spo2</th>\n",
       "      <th>BP</th>\n",
       "      <th>GL</th>\n",
       "    </tr>\n",
       "  </thead>\n",
       "  <tbody>\n",
       "    <tr>\n",
       "      <th>0</th>\n",
       "      <td>Normal</td>\n",
       "      <td>Normal</td>\n",
       "      <td>Critical</td>\n",
       "      <td>Elevated</td>\n",
       "      <td>Elevated</td>\n",
       "    </tr>\n",
       "    <tr>\n",
       "      <th>1</th>\n",
       "      <td>Low</td>\n",
       "      <td>Normal</td>\n",
       "      <td>Worrisome</td>\n",
       "      <td>Elevated</td>\n",
       "      <td>High</td>\n",
       "    </tr>\n",
       "    <tr>\n",
       "      <th>2</th>\n",
       "      <td>Low</td>\n",
       "      <td>Normal</td>\n",
       "      <td>Worrisome</td>\n",
       "      <td>Normal</td>\n",
       "      <td>Elevated</td>\n",
       "    </tr>\n",
       "    <tr>\n",
       "      <th>3</th>\n",
       "      <td>Low</td>\n",
       "      <td>Normal</td>\n",
       "      <td>Worrisome</td>\n",
       "      <td>Normal</td>\n",
       "      <td>High</td>\n",
       "    </tr>\n",
       "    <tr>\n",
       "      <th>4</th>\n",
       "      <td>Low</td>\n",
       "      <td>Low</td>\n",
       "      <td>Normal</td>\n",
       "      <td>Normal</td>\n",
       "      <td>Elevated</td>\n",
       "    </tr>\n",
       "  </tbody>\n",
       "</table>\n",
       "</div>"
      ],
      "text/plain": [
       "    Temp1      HR       Spo2        BP        GL\n",
       "0  Normal  Normal   Critical  Elevated  Elevated\n",
       "1     Low  Normal  Worrisome  Elevated      High\n",
       "2     Low  Normal  Worrisome    Normal  Elevated\n",
       "3     Low  Normal  Worrisome    Normal      High\n",
       "4     Low     Low     Normal    Normal  Elevated"
      ]
     },
     "execution_count": 3,
     "metadata": {},
     "output_type": "execute_result"
    }
   ],
   "source": [
    "standard_sample_data = pd.read_csv(\"standard_system_data_unannotated.csv\")\n",
    "standard_sample_data.head()"
   ]
  },
  {
   "cell_type": "code",
   "execution_count": 4,
   "id": "40a2d5dd",
   "metadata": {},
   "outputs": [],
   "source": [
    "def is_healthy(Temp1,HR,Spo2,BP,GL):\n",
    "    return (\n",
    "        Temp1 == 'Normal' and HR == 'Normal' and Spo2 == 'Normal' and BP == 'Normal' and GL == 'Normal'\n",
    "    )"
   ]
  },
  {
   "cell_type": "code",
   "execution_count": 5,
   "id": "cd60dd6f",
   "metadata": {},
   "outputs": [],
   "source": [
    "def is_moderate(Temp1,HR,Spo2,BP,GL):\n",
    "    return (\n",
    "        (Temp1 == 'Low' or Temp1 == 'High') or \n",
    "        (HR == 'Low' or HR == 'High') or \n",
    "        (BP == 'Low' or BP == 'High')\n",
    "    )"
   ]
  },
  {
   "cell_type": "code",
   "execution_count": 6,
   "id": "962266c6",
   "metadata": {},
   "outputs": [],
   "source": [
    "def is_unhealthy(Temp1,HR,Spo2,BP,GL):\n",
    "    return (\n",
    "        ((Temp1 == 'Low' or Temp1 == 'High') and (HR == 'Low' or HR == 'High')) or \n",
    "        ((BP == 'Low' or BP == 'High') and (HR == 'Low' or HR == 'High')) or\n",
    "        ((BP == 'Low' or BP == 'High') and (Temp1 == 'Low' or Temp1 == 'High'))\n",
    "    )"
   ]
  },
  {
   "cell_type": "code",
   "execution_count": 7,
   "id": "d1849fcd",
   "metadata": {},
   "outputs": [],
   "source": [
    "def is_very_unhealthy(Temp1,HR,Spo2,BP,GL):\n",
    "    return (\n",
    "        (Temp1 == 'Low' or Temp1 == 'High') and \n",
    "        (HR == 'Low' or HR == 'High') and\n",
    "        (BP == 'Low' or BP == 'High')\n",
    "    )"
   ]
  },
  {
   "cell_type": "code",
   "execution_count": 8,
   "id": "ad62ccd7",
   "metadata": {},
   "outputs": [],
   "source": [
    "def is_critical(Temp1,HR,Spo2,BP,GL):\n",
    "    return (\n",
    "        (GL == 'Low' or GL == 'High') or\n",
    "        (Spo2 == 'Critical')\n",
    "    )"
   ]
  },
  {
   "cell_type": "code",
   "execution_count": 9,
   "id": "3f2a4806",
   "metadata": {},
   "outputs": [],
   "source": [
    "def is_very_critical(Temp1,HR,Spo2,BP,GL):\n",
    "    return (\n",
    "        ((GL == 'Low' or GL == 'High') and (Spo2 == 'Critical') and (Temp1 == 'Low' or Temp1 == 'High')) or\n",
    "        ((GL == 'Low' or GL == 'High') and (Spo2 == 'Critical') and (HR == 'Low' or HR == 'High')) or\n",
    "        ((GL == 'Low' or GL == 'High') and (Spo2 == 'Critical') and (BP == 'Low' or BP == 'High')) or\n",
    "        ((GL == 'Low' or GL == 'High') and (HR == 'Low' or HR == 'High') and (BP == 'Low' or BP == 'High')) or\n",
    "        ((GL == 'Low' or GL == 'High') and (Temp1 == 'Low' or Temp1 == 'High') and (BP == 'Low' or BP == 'High')) or\n",
    "        ((GL == 'Low' or GL == 'High') and (Temp1 == 'Low' or Temp1 == 'High') and (HR == 'Low' or HR == 'High')) or\n",
    "        ((GL == 'Low' or GL == 'High') and (Spo2 == 'Critical'))\n",
    "    )"
   ]
  },
  {
   "cell_type": "code",
   "execution_count": 10,
   "id": "8a183a0b",
   "metadata": {},
   "outputs": [
    {
     "ename": "TypeError",
     "evalue": "'bool' object is not callable",
     "output_type": "error",
     "traceback": [
      "\u001b[0;31m---------------------------------------------------------------------------\u001b[0m",
      "\u001b[0;31mTypeError\u001b[0m                                 Traceback (most recent call last)",
      "\u001b[0;32m/tmp/ipykernel_14972/4150140921.py\u001b[0m in \u001b[0;36m<module>\u001b[0;34m\u001b[0m\n\u001b[1;32m      3\u001b[0m     \u001b[0;32mif\u001b[0m \u001b[0mis_healthy\u001b[0m\u001b[0;34m(\u001b[0m\u001b[0mrow\u001b[0m\u001b[0;34m[\u001b[0m\u001b[0;34m'Temp1'\u001b[0m\u001b[0;34m]\u001b[0m\u001b[0;34m,\u001b[0m\u001b[0mrow\u001b[0m\u001b[0;34m[\u001b[0m\u001b[0;34m'HR'\u001b[0m\u001b[0;34m]\u001b[0m\u001b[0;34m,\u001b[0m\u001b[0mrow\u001b[0m\u001b[0;34m[\u001b[0m\u001b[0;34m'Spo2'\u001b[0m\u001b[0;34m]\u001b[0m\u001b[0;34m,\u001b[0m\u001b[0mrow\u001b[0m\u001b[0;34m[\u001b[0m\u001b[0;34m'BP'\u001b[0m\u001b[0;34m]\u001b[0m\u001b[0;34m,\u001b[0m\u001b[0mrow\u001b[0m\u001b[0;34m[\u001b[0m\u001b[0;34m'GL'\u001b[0m\u001b[0;34m]\u001b[0m\u001b[0;34m)\u001b[0m\u001b[0;34m:\u001b[0m\u001b[0;34m\u001b[0m\u001b[0;34m\u001b[0m\u001b[0m\n\u001b[1;32m      4\u001b[0m         \u001b[0moutcome\u001b[0m\u001b[0;34m.\u001b[0m\u001b[0mappend\u001b[0m\u001b[0;34m(\u001b[0m\u001b[0;34m\"Healthy\"\u001b[0m\u001b[0;34m)\u001b[0m\u001b[0;34m\u001b[0m\u001b[0;34m\u001b[0m\u001b[0m\n\u001b[0;32m----> 5\u001b[0;31m     \u001b[0;32melif\u001b[0m \u001b[0mis_very_critical\u001b[0m\u001b[0;34m(\u001b[0m\u001b[0mrow\u001b[0m\u001b[0;34m[\u001b[0m\u001b[0;34m'Temp1'\u001b[0m\u001b[0;34m]\u001b[0m\u001b[0;34m,\u001b[0m\u001b[0mrow\u001b[0m\u001b[0;34m[\u001b[0m\u001b[0;34m'HR'\u001b[0m\u001b[0;34m]\u001b[0m\u001b[0;34m,\u001b[0m\u001b[0mrow\u001b[0m\u001b[0;34m[\u001b[0m\u001b[0;34m'Spo2'\u001b[0m\u001b[0;34m]\u001b[0m\u001b[0;34m,\u001b[0m\u001b[0mrow\u001b[0m\u001b[0;34m[\u001b[0m\u001b[0;34m'BP'\u001b[0m\u001b[0;34m]\u001b[0m\u001b[0;34m,\u001b[0m\u001b[0mrow\u001b[0m\u001b[0;34m[\u001b[0m\u001b[0;34m'GL'\u001b[0m\u001b[0;34m]\u001b[0m\u001b[0;34m)\u001b[0m\u001b[0;34m:\u001b[0m\u001b[0;34m\u001b[0m\u001b[0;34m\u001b[0m\u001b[0m\n\u001b[0m\u001b[1;32m      6\u001b[0m         \u001b[0moutcome\u001b[0m\u001b[0;34m.\u001b[0m\u001b[0mappend\u001b[0m\u001b[0;34m(\u001b[0m\u001b[0;34m\"Very Critical\"\u001b[0m\u001b[0;34m)\u001b[0m\u001b[0;34m\u001b[0m\u001b[0;34m\u001b[0m\u001b[0m\n\u001b[1;32m      7\u001b[0m     \u001b[0;32melif\u001b[0m \u001b[0mis_critical\u001b[0m\u001b[0;34m(\u001b[0m\u001b[0mrow\u001b[0m\u001b[0;34m[\u001b[0m\u001b[0;34m'Temp1'\u001b[0m\u001b[0;34m]\u001b[0m\u001b[0;34m,\u001b[0m\u001b[0mrow\u001b[0m\u001b[0;34m[\u001b[0m\u001b[0;34m'HR'\u001b[0m\u001b[0;34m]\u001b[0m\u001b[0;34m,\u001b[0m\u001b[0mrow\u001b[0m\u001b[0;34m[\u001b[0m\u001b[0;34m'Spo2'\u001b[0m\u001b[0;34m]\u001b[0m\u001b[0;34m,\u001b[0m\u001b[0mrow\u001b[0m\u001b[0;34m[\u001b[0m\u001b[0;34m'BP'\u001b[0m\u001b[0;34m]\u001b[0m\u001b[0;34m,\u001b[0m\u001b[0mrow\u001b[0m\u001b[0;34m[\u001b[0m\u001b[0;34m'GL'\u001b[0m\u001b[0;34m]\u001b[0m\u001b[0;34m)\u001b[0m\u001b[0;34m:\u001b[0m\u001b[0;34m\u001b[0m\u001b[0;34m\u001b[0m\u001b[0m\n",
      "\u001b[0;32m/tmp/ipykernel_14972/2744008579.py\u001b[0m in \u001b[0;36mis_very_critical\u001b[0;34m(Temp1, HR, Spo2, BP, GL)\u001b[0m\n\u001b[1;32m      6\u001b[0m         \u001b[0;34m(\u001b[0m\u001b[0;34m(\u001b[0m\u001b[0mGL\u001b[0m \u001b[0;34m==\u001b[0m \u001b[0;34m'Low'\u001b[0m \u001b[0;32mor\u001b[0m \u001b[0mGL\u001b[0m \u001b[0;34m==\u001b[0m \u001b[0;34m'High'\u001b[0m\u001b[0;34m)\u001b[0m \u001b[0;32mand\u001b[0m \u001b[0;34m(\u001b[0m\u001b[0mHR\u001b[0m \u001b[0;34m==\u001b[0m \u001b[0;34m'Low'\u001b[0m \u001b[0;32mor\u001b[0m \u001b[0mHR\u001b[0m \u001b[0;34m==\u001b[0m \u001b[0;34m'High'\u001b[0m\u001b[0;34m)\u001b[0m \u001b[0;32mand\u001b[0m \u001b[0;34m(\u001b[0m\u001b[0mBP\u001b[0m \u001b[0;34m==\u001b[0m \u001b[0;34m'Low'\u001b[0m \u001b[0;32mor\u001b[0m \u001b[0mBP\u001b[0m \u001b[0;34m==\u001b[0m \u001b[0;34m'High'\u001b[0m\u001b[0;34m)\u001b[0m\u001b[0;34m)\u001b[0m \u001b[0;32mor\u001b[0m\u001b[0;34m\u001b[0m\u001b[0;34m\u001b[0m\u001b[0m\n\u001b[1;32m      7\u001b[0m         \u001b[0;34m(\u001b[0m\u001b[0;34m(\u001b[0m\u001b[0mGL\u001b[0m \u001b[0;34m==\u001b[0m \u001b[0;34m'Low'\u001b[0m \u001b[0;32mor\u001b[0m \u001b[0mGL\u001b[0m \u001b[0;34m==\u001b[0m \u001b[0;34m'High'\u001b[0m\u001b[0;34m)\u001b[0m \u001b[0;32mand\u001b[0m \u001b[0;34m(\u001b[0m\u001b[0mTemp1\u001b[0m \u001b[0;34m==\u001b[0m \u001b[0;34m'Low'\u001b[0m \u001b[0;32mor\u001b[0m \u001b[0mTemp1\u001b[0m \u001b[0;34m==\u001b[0m \u001b[0;34m'High'\u001b[0m\u001b[0;34m)\u001b[0m \u001b[0;32mand\u001b[0m \u001b[0;34m(\u001b[0m\u001b[0mBP\u001b[0m \u001b[0;34m==\u001b[0m \u001b[0;34m'Low'\u001b[0m \u001b[0;32mor\u001b[0m \u001b[0mBP\u001b[0m \u001b[0;34m==\u001b[0m \u001b[0;34m'High'\u001b[0m\u001b[0;34m)\u001b[0m\u001b[0;34m)\u001b[0m \u001b[0;32mor\u001b[0m\u001b[0;34m\u001b[0m\u001b[0;34m\u001b[0m\u001b[0m\n\u001b[0;32m----> 8\u001b[0;31m         \u001b[0;34m(\u001b[0m\u001b[0;34m(\u001b[0m\u001b[0mGL\u001b[0m \u001b[0;34m==\u001b[0m \u001b[0;34m'Low'\u001b[0m \u001b[0;32mor\u001b[0m \u001b[0mGL\u001b[0m \u001b[0;34m==\u001b[0m \u001b[0;34m'High'\u001b[0m\u001b[0;34m)\u001b[0m \u001b[0;32mand\u001b[0m \u001b[0;34m(\u001b[0m\u001b[0mTemp1\u001b[0m \u001b[0;34m==\u001b[0m \u001b[0;34m'Low'\u001b[0m \u001b[0;32mor\u001b[0m \u001b[0mTemp1\u001b[0m \u001b[0;34m==\u001b[0m \u001b[0;34m'High'\u001b[0m\u001b[0;34m)\u001b[0m \u001b[0;32mand\u001b[0m \u001b[0;34m(\u001b[0m\u001b[0mHR\u001b[0m \u001b[0;34m==\u001b[0m \u001b[0;34m'Low'\u001b[0m \u001b[0;32mor\u001b[0m \u001b[0mHR\u001b[0m \u001b[0;34m==\u001b[0m \u001b[0;34m'High'\u001b[0m\u001b[0;34m)\u001b[0m\u001b[0;34m)\u001b[0m\u001b[0;34m\u001b[0m\u001b[0;34m\u001b[0m\u001b[0m\n\u001b[0m\u001b[1;32m      9\u001b[0m         \u001b[0;34m(\u001b[0m\u001b[0;34m(\u001b[0m\u001b[0mGL\u001b[0m \u001b[0;34m==\u001b[0m \u001b[0;34m'Low'\u001b[0m \u001b[0;32mor\u001b[0m \u001b[0mGL\u001b[0m \u001b[0;34m==\u001b[0m \u001b[0;34m'High'\u001b[0m\u001b[0;34m)\u001b[0m \u001b[0;32mand\u001b[0m \u001b[0;34m(\u001b[0m\u001b[0mSpo2\u001b[0m \u001b[0;34m==\u001b[0m \u001b[0;34m'Critical'\u001b[0m\u001b[0;34m)\u001b[0m\u001b[0;34m)\u001b[0m\u001b[0;34m\u001b[0m\u001b[0;34m\u001b[0m\u001b[0m\n\u001b[1;32m     10\u001b[0m     )\n",
      "\u001b[0;31mTypeError\u001b[0m: 'bool' object is not callable"
     ]
    }
   ],
   "source": [
    "outcome = []\n",
    "for index, row in iot_sample_data.iterrows():\n",
    "    if is_healthy(row['Temp1'],row['HR'],row['Spo2'],row['BP'],row['GL']):\n",
    "        outcome.append(\"Healthy\")\n",
    "    elif is_very_critical(row['Temp1'],row['HR'],row['Spo2'],row['BP'],row['GL']):\n",
    "        outcome.append(\"Very Critical\")\n",
    "    elif is_critical(row['Temp1'],row['HR'],row['Spo2'],row['BP'],row['GL']):\n",
    "        outcome.append(\"Critical\")\n",
    "    elif is_very_unhealthy(row['Temp1'],row['HR'],row['Spo2'],row['BP'],row['GL']):\n",
    "        outcome.append(\"Very Unhealthy\")\n",
    "    elif is_unhealthy(row['Temp1'],row['HR'],row['Spo2'],row['BP'],row['GL']):\n",
    "        outcome.append(\"Unhealthy\")\n",
    "    elif is_moderate(row['Temp1'],row['HR'],row['Spo2'],row['BP'],row['GL']):\n",
    "        outcome.append(\"Moderate\")\n",
    "    else:\n",
    "        outcome.append(\"None\")"
   ]
  },
  {
   "cell_type": "code",
   "execution_count": null,
   "id": "1075be5c",
   "metadata": {},
   "outputs": [],
   "source": [
    "iot_sample_data[\"Condition\"] = outcome  \n",
    "pd.set_option(\"display.max_rows\", None, \"display.max_columns\", None)\n",
    "iot_sample_data"
   ]
  },
  {
   "cell_type": "code",
   "execution_count": null,
   "id": "a8487ebe",
   "metadata": {},
   "outputs": [],
   "source": [
    "# saving the dataframe\n",
    "iot_sample_data.to_csv('iot_sample_data_annotated.csv',index = False, header = True)"
   ]
  },
  {
   "cell_type": "code",
   "execution_count": null,
   "id": "c4447781",
   "metadata": {},
   "outputs": [],
   "source": [
    "outcome = []\n",
    "for index, row in standard_sample_data.iterrows():\n",
    "    if is_healthy(row['Temp1'],row['HR'],row['Spo2'],row['BP'],row['GL']):\n",
    "        outcome.append(\"Healthy\")\n",
    "    elif is_very_critical(row['Temp1'],row['HR'],row['Spo2'],row['BP'],row['GL']):\n",
    "        outcome.append(\"Very Critical\")\n",
    "    elif is_critical(row['Temp1'],row['HR'],row['Spo2'],row['BP'],row['GL']):\n",
    "        outcome.append(\"Critical\")\n",
    "    elif is_very_unhealthy(row['Temp1'],row['HR'],row['Spo2'],row['BP'],row['GL']):\n",
    "        outcome.append(\"Very Unhealthy\")\n",
    "    elif is_unhealthy(row['Temp1'],row['HR'],row['Spo2'],row['BP'],row['GL']):\n",
    "        outcome.append(\"Unhealthy\")\n",
    "    elif is_moderate(row['Temp1'],row['HR'],row['Spo2'],row['BP'],row['GL']):\n",
    "        outcome.append(\"Moderate\")\n",
    "    else:\n",
    "        outcome.append(\"None\")"
   ]
  },
  {
   "cell_type": "code",
   "execution_count": null,
   "id": "de76fca6",
   "metadata": {},
   "outputs": [],
   "source": [
    "standard_sample_data[\"Condition\"] = outcome  \n",
    "pd.set_option(\"display.max_rows\", None, \"display.max_columns\", None)\n",
    "standard_sample_data"
   ]
  },
  {
   "cell_type": "code",
   "execution_count": null,
   "id": "7c36c73e",
   "metadata": {},
   "outputs": [],
   "source": [
    "# saving the dataframe\n",
    "standard_sample_data.to_csv('standard_sample_data_annotated.csv',index = False, header = True)"
   ]
  }
 ],
 "metadata": {
  "kernelspec": {
   "display_name": "Python 3 (ipykernel)",
   "language": "python",
   "name": "python3"
  },
  "language_info": {
   "codemirror_mode": {
    "name": "ipython",
    "version": 3
   },
   "file_extension": ".py",
   "mimetype": "text/x-python",
   "name": "python",
   "nbconvert_exporter": "python",
   "pygments_lexer": "ipython3",
   "version": "3.9.5"
  }
 },
 "nbformat": 4,
 "nbformat_minor": 5
}
